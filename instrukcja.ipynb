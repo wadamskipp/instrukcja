{
 "cells": [
  {
   "cell_type": "markdown",
   "metadata": {},
   "source": [
    "# Instrukcja\n",
    "1. raz\n",
    "1. dwa\n",
    "\n",
    "$\\phi = \\frac{1}{s+2}$"
   ]
  },
  {
   "cell_type": "code",
   "execution_count": 7,
   "metadata": {},
   "outputs": [
    {
     "name": "stdout",
     "output_type": "stream",
     "text": [
      "11\n"
     ]
    }
   ],
   "source": [
    "print(2+3+6)\n",
    "a = 'test'"
   ]
  },
  {
   "cell_type": "markdown",
   "metadata": {},
   "source": [
    "Komórka opisu."
   ]
  },
  {
   "cell_type": "code",
   "execution_count": 8,
   "metadata": {},
   "outputs": [
    {
     "data": {
      "text/plain": [
       "'test'"
      ]
     },
     "execution_count": 8,
     "metadata": {},
     "output_type": "execute_result"
    }
   ],
   "source": [
    "a"
   ]
  },
  {
   "cell_type": "code",
   "execution_count": 9,
   "metadata": {},
   "outputs": [
    {
     "data": {
      "text/latex": [
       "$\\displaystyle \\frac{e^{- s}}{5 s + 1}$"
      ],
      "text/plain": [
       "exp(-s)/(5*s + 1)"
      ]
     },
     "metadata": {},
     "output_type": "display_data"
    },
    {
     "data": {
      "text/latex": [
       "$\\displaystyle \\frac{e^{- s}}{s \\left(5 s + 1\\right)}$"
      ],
      "text/plain": [
       "exp(-s)/(s*(5*s + 1))"
      ]
     },
     "execution_count": 9,
     "metadata": {},
     "output_type": "execute_result"
    }
   ],
   "source": [
    "import sympy as sym\n",
    "s, t = sym.symbols('s, t')\n",
    "U1 = 1/s\n",
    "G1 = 1/(1+s*5)\n",
    "G2 = sym.exp(-s)\n",
    "G3 = G1 * G2\n",
    "display(G3)\n",
    "Y1 = G3 * U1\n",
    "Y1"
   ]
  },
  {
   "cell_type": "markdown",
   "metadata": {},
   "source": [
    "## Postać czasową odpowiedzi skokowej"
   ]
  },
  {
   "cell_type": "code",
   "execution_count": 10,
   "metadata": {},
   "outputs": [
    {
     "data": {
      "text/latex": [
       "$\\displaystyle \\frac{\\sqrt{2} \\sqrt{5 - \\sqrt{5}} \\left(e^{\\frac{t}{5}} \\Gamma\\left(\\frac{4}{5}\\right) + \\frac{e^{\\frac{1}{5}} \\Gamma\\left(- \\frac{1}{5}\\right)}{5}\\right) e^{- \\frac{t}{5}} \\theta\\left(t - 1\\right) \\Gamma\\left(\\frac{1}{5}\\right)}{4 \\pi}$"
      ],
      "text/plain": [
       "sqrt(2)*sqrt(5 - sqrt(5))*(exp(t/5)*gamma(4/5) + exp(1/5)*gamma(-1/5)/5)*exp(-t/5)*Heaviside(t - 1)*gamma(1/5)/(4*pi)"
      ]
     },
     "execution_count": 10,
     "metadata": {},
     "output_type": "execute_result"
    }
   ],
   "source": [
    "from sympy.integrals import inverse_laplace_transform as ilaplace\n",
    "y1 = ilaplace(Y1, s, t)\n",
    "y1"
   ]
  },
  {
   "cell_type": "markdown",
   "metadata": {},
   "source": [
    "## Wykres"
   ]
  },
  {
   "cell_type": "code",
   "execution_count": 11,
   "metadata": {},
   "outputs": [
    {
     "data": {
      "image/png": "[encoded data removed]",
      "text/plain": [
       "<Figure size 432x288 with 1 Axes>"
      ]
     },
     "metadata": {
      "needs_background": "light"
     },
     "output_type": "display_data"
    }
   ],
   "source": [
    "from sympy.plotting import plot\n",
    "p1 = plot(y1, (t,0,10))"
   ]
  }
 ],
 "metadata": {
  "kernelspec": {
   "display_name": "Python 3",
   "language": "python",
   "name": "python3"
  },
  "language_info": {
   "codemirror_mode": {
    "name": "ipython",
    "version": 3
   },
   "file_extension": ".py",
   "mimetype": "text/x-python",
   "name": "python",
   "nbconvert_exporter": "python",
   "pygments_lexer": "ipython3",
   "version": "3.8.2"
  }
 },
 "nbformat": 4,
 "nbformat_minor": 4
}
